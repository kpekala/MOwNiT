{
 "cells": [
  {
   "cell_type": "markdown",
   "metadata": {},
   "source": [
    "# Mownit lab4"
   ]
  },
  {
   "cell_type": "markdown",
   "metadata": {},
   "source": [
    "### Import bibliotek"
   ]
  },
  {
   "cell_type": "code",
   "execution_count": 7,
   "metadata": {},
   "outputs": [],
   "source": [
    "from math import exp, sin, cos, pi\n",
    "import matplotlib.pyplot as plt\n",
    "import numpy as np"
   ]
  },
  {
   "cell_type": "markdown",
   "metadata": {},
   "source": [
    "## Moja wersja funkcji"
   ]
  },
  {
   "cell_type": "code",
   "execution_count": 8,
   "metadata": {},
   "outputs": [],
   "source": [
    "#f7, k=3, m=2, [-pi, 2pi]\n",
    "def f(x):\n",
    "    return exp(-3 * sin(2*x)) + 3 * cos(2*x)"
   ]
  },
  {
   "cell_type": "code",
   "execution_count": 9,
   "metadata": {},
   "outputs": [],
   "source": [
    "def f_d(x):\n",
    "    return -6 * sin(2*x) - 6*exp(-3*sin(2*x))*cos(2*x)"
   ]
  },
  {
   "cell_type": "code",
   "execution_count": 10,
   "metadata": {},
   "outputs": [],
   "source": [
    "x_start = -pi\n",
    "x_end = 2*pi"
   ]
  },
  {
   "cell_type": "markdown",
   "metadata": {},
   "source": [
    "## Aproksymacja wielomianowa"
   ]
  },
  {
   "cell_type": "code",
   "execution_count": 11,
   "metadata": {},
   "outputs": [],
   "source": [
    "def poly(vec, x):\n",
    "    result = 0\n",
    "    for i in range(len(vec)):\n",
    "        result += vec[i]*x**i\n",
    "    return result"
   ]
  },
  {
   "cell_type": "code",
   "execution_count": 12,
   "metadata": {},
   "outputs": [],
   "source": [
    "def get_approximation_factors(xs, degree):\n",
    "    values = np.array(list(map(f, xs)))\n",
    "    #print(\"values: \",values)\n",
    "    n = len(xs)\n",
    "    matrix = np.zeros((n, degree+1))\n",
    "    for i in range(n):\n",
    "        for j in range(degree+1):\n",
    "            matrix[i][j] += xs[i]**j\n",
    "    return np.linalg.inv(np.transpose(matrix).dot(matrix)).dot(np.transpose(matrix)).dot(values)"
   ]
  },
  {
   "cell_type": "code",
   "execution_count": 13,
   "metadata": {},
   "outputs": [],
   "source": [
    "def even_node(i, n):\n",
    "    return x_start + i * (x_end - x_start)/(n-1)\n",
    "\n",
    "def build_nodes(points_number, nodes_method = even_node):\n",
    "    x_points = [0] * points_number\n",
    "    y_points = [0] * points_number\n",
    "    for i in range(points_number):\n",
    "        x_points[i] = nodes_method(i, points_number)\n",
    "        y_points[i] = f(x_points[i])\n",
    "    return x_points, y_points"
   ]
  },
  {
   "cell_type": "code",
   "execution_count": 14,
   "metadata": {},
   "outputs": [],
   "source": [
    "#build_nodes(10)"
   ]
  },
  {
   "cell_type": "code",
   "execution_count": 15,
   "metadata": {},
   "outputs": [],
   "source": [
    "def get_approx_values(n, degree, size = 100):\n",
    "    xs, ys = build_nodes(n)\n",
    "    coef = get_approximation_factors(xs, degree)\n",
    "    xt, _ = build_nodes(size)\n",
    "    yt = [0] * len(xt)\n",
    "    for i in range(size):\n",
    "        yt[i] = poly(coef, xt[i])\n",
    "    return xt, yt"
   ]
  },
  {
   "cell_type": "code",
   "execution_count": 16,
   "metadata": {},
   "outputs": [],
   "source": [
    "def visualize(n, degree):\n",
    "    xt, yt = get_approx_values(n, degree)\n",
    "    plt.plot(xt,yt)\n",
    "    xp,yp = build_nodes(100)\n",
    "    plt.plot(xp,yp)\n",
    "    #xs, ys = build_nodes(n)\n",
    "    #plt.scatter(xs,ys, c = [\"#000000\"])"
   ]
  },
  {
   "cell_type": "code",
   "execution_count": 17,
   "metadata": {},
   "outputs": [
    {
     "data": {
      "image/png": "[encoded data removed]",
      "text/plain": [
       "<Figure size 432x288 with 1 Axes>"
      ]
     },
     "metadata": {
      "needs_background": "light"
     },
     "output_type": "display_data"
    }
   ],
   "source": [
    "visualize(40, 16)"
   ]
  },
  {
   "cell_type": "code",
   "execution_count": 18,
   "metadata": {},
   "outputs": [],
   "source": [
    "def diff(n, test_m, degree, node_m = even_node):\n",
    "    xs, ys = build_nodes(n,node_m)\n",
    "    xt, yt = get_approx_values(n, degree)\n",
    "    xp, yp = build_nodes(100,even_node)\n",
    "    return test_m([abs(yp[i]-yt[i]) for i in range(len(yp))])"
   ]
  },
  {
   "cell_type": "code",
   "execution_count": 38,
   "metadata": {},
   "outputs": [
    {
     "name": "stdout",
     "output_type": "stream",
     "text": [
      "283.4505769816105\n",
      "78.6020342149821\n",
      "4.800133778177445\n"
     ]
    }
   ],
   "source": [
    "print(diff(10,np.mean,15, even_node))\n",
    "print(diff(15,np.mean,15, even_node))\n",
    "print(diff(20,np.mean,15, even_node))"
   ]
  },
  {
   "cell_type": "code",
   "execution_count": 40,
   "metadata": {},
   "outputs": [
    {
     "name": "stdout",
     "output_type": "stream",
     "text": [
      "493.20407137833894\n",
      "1169.7157531002847\n",
      "61.41892612090654\n",
      "12.019401896154392\n"
     ]
    }
   ],
   "source": [
    "print(diff(10,max,15, even_node))\n",
    "print(diff(15,max,15, even_node))\n",
    "print(diff(20,max,15, even_node))\n",
    "print(diff(30,max,15, even_node))"
   ]
  },
  {
   "cell_type": "code",
   "execution_count": 44,
   "metadata": {},
   "outputs": [
    {
     "name": "stdout",
     "output_type": "stream",
     "text": [
      "2.487395235818122\n",
      "4.067694249782023\n",
      "5.245863111975251\n",
      "5.344455132602661\n",
      "5.387695558469813\n"
     ]
    }
   ],
   "source": [
    "print(diff(30,np.mean,15, even_node))\n",
    "print(diff(30,np.mean,7, even_node))\n",
    "print(diff(30,np.mean,5, even_node))\n",
    "print(diff(30,np.mean,4, even_node))\n",
    "print(diff(30,np.mean,3, even_node))"
   ]
  }
 ],
 "metadata": {
  "kernelspec": {
   "display_name": "Python 3",
   "language": "python",
   "name": "python3"
  },
  "language_info": {
   "codemirror_mode": {
    "name": "ipython",
    "version": 3
   },
   "file_extension": ".py",
   "mimetype": "text/x-python",
   "name": "python",
   "nbconvert_exporter": "python",
   "pygments_lexer": "ipython3",
   "version": "3.8.5"
  }
 },
 "nbformat": 4,
 "nbformat_minor": 4
}
