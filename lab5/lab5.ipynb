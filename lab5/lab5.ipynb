{
 "cells": [
  {
   "cell_type": "code",
   "execution_count": 121,
   "metadata": {},
   "outputs": [],
   "source": [
    "import numpy as np\n",
    "import matplotlib.pyplot as plt"
   ]
  },
  {
   "cell_type": "markdown",
   "metadata": {},
   "source": [
    "## Moja funkcja f i pochodna"
   ]
  },
  {
   "cell_type": "code",
   "execution_count": 122,
   "metadata": {},
   "outputs": [],
   "source": [
    "def f(x): return 30*x*np.exp(-30.0) - 30*np.exp(-11*x) + 1/330\n",
    "def df(x): return 330*np.exp(-11*x) + 30*np.exp(-30.0)\n",
    "\n",
    "a = -1.25\n",
    "b = 1.5"
   ]
  },
  {
   "cell_type": "markdown",
   "metadata": {},
   "source": [
    "## Przydatne funkcje"
   ]
  },
  {
   "cell_type": "code",
   "execution_count": 123,
   "metadata": {},
   "outputs": [],
   "source": [
    "def even_node(i, n):\n",
    "    return a + i * (b - a)/(n-1)\n",
    "\n",
    "def build_nodes(points_number, nodes_method = even_node):\n",
    "    x_points = [0] * points_number\n",
    "    y_points = [0] * points_number\n",
    "    for i in range(points_number):\n",
    "        x_points[i] = nodes_method(i, points_number)\n",
    "        y_points[i] = f(x_points[i])\n",
    "    return x_points, y_points\n",
    "\n",
    "def visualize_f():\n",
    "    xp,yp = build_nodes(100)\n",
    "    \n",
    "    ax = plt.gca()\n",
    "    ax.spines['top'].set_color('none')\n",
    "    ax.spines['left'].set_position('zero')\n",
    "    ax.spines['right'].set_color('none')\n",
    "    ax.spines['bottom'].set_position('zero')\n",
    "    plt.plot(xp,yp)\n",
    "    plt.ylim(-3,3)\n",
    "    plt.grid(True)\n",
    "    plt.show()"
   ]
  },
  {
   "cell_type": "code",
   "execution_count": 124,
   "metadata": {},
   "outputs": [
    {
     "data": {
      "image/png": "[encoded data removed]",
      "text/plain": [
       "<Figure size 432x288 with 1 Axes>"
      ]
     },
     "metadata": {
      "needs_background": "light"
     },
     "output_type": "display_data"
    }
   ],
   "source": [
    "visualize_f()"
   ]
  },
  {
   "cell_type": "markdown",
   "metadata": {},
   "source": [
    "# Równania"
   ]
  },
  {
   "cell_type": "markdown",
   "metadata": {},
   "source": [
    "## Metoda Newtona"
   ]
  },
  {
   "cell_type": "code",
   "execution_count": 125,
   "metadata": {},
   "outputs": [],
   "source": [
    "def Newton(xa, xb, eps):\n",
    "    x = xb\n",
    "    f_value = f(x)\n",
    "    iteration_counter = 0\n",
    "    x1 = xb+1\n",
    "    while abs(x - x1) > eps and iteration_counter < 100 and x >= xa:\n",
    "        try:\n",
    "            x1 = x\n",
    "            x = x - float(f_value)/df(x)\n",
    "        except ZeroDivisionError:\n",
    "            print (\"Error! - derivative zero for x = \", x)\n",
    "            sys.exit(1)  \n",
    "\n",
    "        f_value = f(x)\n",
    "        iteration_counter += 1\n",
    "\n",
    "    if abs(x - x1) > eps:\n",
    "        iteration_counter = -iteration_counter\n",
    "    return x, iteration_counter"
   ]
  },
  {
   "cell_type": "code",
   "execution_count": 126,
   "metadata": {},
   "outputs": [
    {
     "name": "stdout",
     "output_type": "stream",
     "text": [
      "Solution not found!\n"
     ]
    },
    {
     "name": "stderr",
     "output_type": "stream",
     "text": [
      "<ipython-input-122-527f113c6eab>:1: RuntimeWarning: overflow encountered in exp\n",
      "  def f(x): return 30*x*np.exp(-30.0) - 30*np.exp(-11*x) + 1/330\n"
     ]
    }
   ],
   "source": [
    "solution, no_iterations = Newton(a,b,eps=1.0e-6)\n",
    "\n",
    "if no_iterations > 0:    # Solution found\n",
    "    print (\"Number of function calls: %d\" % (1 + 2*no_iterations))\n",
    "    print (\"A solution is: %f\" % (solution))\n",
    "else:\n",
    "    print (\"Solution not found!\")"
   ]
  },
  {
   "cell_type": "markdown",
   "metadata": {},
   "source": [
    "## Metoda stycznych"
   ]
  },
  {
   "cell_type": "code",
   "execution_count": 127,
   "metadata": {},
   "outputs": [],
   "source": [
    "def secant(x0, x1, eps):\n",
    "    f_x0 = f(x0)\n",
    "    f_x1 = f(x1)\n",
    "    iteration_counter = 0\n",
    "    x = x1\n",
    "    x_tmp = 100\n",
    "    while abs(x_tmp - x) > eps and iteration_counter < 100:\n",
    "        try:\n",
    "            x_tmp = x\n",
    "            denominator = float(f_x1 - f_x0)/(x1 - x0)\n",
    "            x = x1 - float(f_x1)/denominator\n",
    "        except ZeroDivisionError:\n",
    "            return x, -iteration_counter\n",
    "        x0 = x1\n",
    "        x1 = x\n",
    "        f_x0 = f_x1\n",
    "        f_x1 = f(x1)\n",
    "        iteration_counter += 1\n",
    "    if abs(x_tmp - x) > eps:\n",
    "        iteration_counter = -iteration_counter\n",
    "    return x, iteration_counter"
   ]
  },
  {
   "cell_type": "code",
   "execution_count": 128,
   "metadata": {},
   "outputs": [],
   "source": [
    "x0 = -1.25;   x1 = 1.1"
   ]
  },
  {
   "cell_type": "code",
   "execution_count": 129,
   "metadata": {},
   "outputs": [
    {
     "name": "stdout",
     "output_type": "stream",
     "text": [
      "1.0999999997605046 1\n"
     ]
    }
   ],
   "source": [
    "solution, no_iterations = secant(x0, x1, eps=1.0e-9)\n",
    "\n",
    "if no_iterations > 0:    # Solution found\n",
    "    print(solution, no_iterations)\n",
    "else:\n",
    "    print (\"Solution not found!\")"
   ]
  },
  {
   "cell_type": "code",
   "execution_count": 130,
   "metadata": {},
   "outputs": [],
   "source": [
    "def newton_experiment(eps = 1.0e-6):\n",
    "    xa = a\n",
    "    xb = b\n",
    "    while xa < xb:\n",
    "        solution, iterations = Newton(xa, xb, eps=1.0e-6)\n",
    "        xa = round(xa, 4)\n",
    "        xb = round(xb, 4)\n",
    "        print(abs(iterations))\n",
    "        #print(round(solution,6))\n",
    "        if iterations > 0:\n",
    "            pass\n",
    "            #print(\"Solution: {}, Iterations: {}, Interval: [{},{}]\".format(round(solution,6), iterations, xa,xb))\n",
    "        else:\n",
    "            pass\n",
    "            #print(\"No solution, Iterations: {}, Interval: [{},{}]\".format(iterations, xa,xb))\n",
    "        xa += 0.1\n",
    "        xb -= 0.1\n",
    "        "
   ]
  },
  {
   "cell_type": "code",
   "execution_count": 131,
   "metadata": {},
   "outputs": [
    {
     "name": "stdout",
     "output_type": "stream",
     "text": [
      "1\n",
      "1\n",
      "1\n",
      "1\n",
      "20\n",
      "9\n",
      "5\n",
      "4\n",
      "6\n",
      "7\n",
      "8\n",
      "9\n",
      "10\n",
      "12\n"
     ]
    },
    {
     "name": "stderr",
     "output_type": "stream",
     "text": [
      "<ipython-input-122-527f113c6eab>:1: RuntimeWarning: overflow encountered in exp\n",
      "  def f(x): return 30*x*np.exp(-30.0) - 30*np.exp(-11*x) + 1/330\n"
     ]
    }
   ],
   "source": [
    "newton_experiment(1.0e-4)"
   ]
  },
  {
   "cell_type": "code",
   "execution_count": 132,
   "metadata": {},
   "outputs": [],
   "source": [
    "def secant_experiment(eps = 1.0e-6, forward = True):\n",
    "    xa = a\n",
    "    xb = b\n",
    "    while xa < xb:\n",
    "        solution, iterations = secant(xa, xb, eps=1.0e-6)\n",
    "        #print(round(solution,6))\n",
    "        print(iterations)\n",
    "        xa = round(xa, 4)\n",
    "        xb = round(xb, 4)\n",
    "        if iterations > 0:\n",
    "            pass\n",
    "            #print(iterations)\n",
    "            #print(\"Solution: {}, Iterations: {}, Interval: [{},{}]\".format(round(solution,6), iterations, xa,xb))\n",
    "        else:\n",
    "            pass\n",
    "            #print(iterations)\n",
    "            #print(\"No solution\")\n",
    "            #print(\"No solution, Iterations: {}, Interval: [{},{}]\".format(iterations, xa,xb))\n",
    "        #print([xa,xb])\n",
    "        if forward:\n",
    "            xa += 0.1\n",
    "        else:\n",
    "            xb -= 0.1"
   ]
  },
  {
   "cell_type": "code",
   "execution_count": 134,
   "metadata": {},
   "outputs": [],
   "source": [
    "def newt_exp_data(eps = 1.0e-6):\n",
    "    arr = []\n",
    "    xa = a\n",
    "    xb = b\n",
    "    while xa < xb:\n",
    "        solution, iterations = Newton(xa, xb, eps = eps)\n",
    "        arr.append((solution, iterations))\n",
    "        xa = round(xa, 4)\n",
    "        xb = round(xb, 4)\n",
    "        xa += 0.1\n",
    "        xb -= 0.1\n",
    "    return arr\n",
    "def sec_exp_data(eps = 1.0e-6, forward = True):\n",
    "    arr = []\n",
    "    xa = a\n",
    "    xb = b\n",
    "    while xa < xb:\n",
    "        solution, iterations = secant(xa, xb, eps = eps)\n",
    "        arr.append((solution, abs(iterations)))\n",
    "        xa = round(xa, 4)\n",
    "        xb = round(xb, 4)\n",
    "        if forward:\n",
    "            xa += 0.1\n",
    "        else:\n",
    "            xb -= 0.1\n",
    "    return arr"
   ]
  },
  {
   "cell_type": "code",
   "execution_count": 135,
   "metadata": {},
   "outputs": [],
   "source": [
    "#sec_exp_data(forward = False)"
   ]
  },
  {
   "cell_type": "code",
   "execution_count": 136,
   "metadata": {},
   "outputs": [],
   "source": [
    "def visualizeIterations():\n",
    "    epss = [\"0.01\", \"0.001\", \"0.0001\", \"0.00001\",\"0.000001\"]\n",
    "    avg_n = []\n",
    "    avg_s = []\n",
    "    for eps in epss:\n",
    "        newt_iters = [row[1] for row in newt_exp_data(float(eps))]\n",
    "        sec_iters = [row[1] for row in sec_exp_data(float(eps), False)]\n",
    "        avg_n.append(np.mean(newt_iters))\n",
    "        avg_s.append(np.mean(sec_iters))\n",
    "    \n",
    "    plt.plot(epss,avg_n,  label='Metoda Newtona')\n",
    "    plt.plot(epss,avg_s, label='Metoda stycznych')\n",
    "    plt.xlabel(\"Błąd epsilon\")\n",
    "    plt.ylabel(\"Średnia liczba iteracji\")\n",
    "    leg = plt.legend()"
   ]
  },
  {
   "cell_type": "code",
   "execution_count": 137,
   "metadata": {},
   "outputs": [
    {
     "name": "stderr",
     "output_type": "stream",
     "text": [
      "<ipython-input-122-527f113c6eab>:1: RuntimeWarning: overflow encountered in exp\n",
      "  def f(x): return 30*x*np.exp(-30.0) - 30*np.exp(-11*x) + 1/330\n"
     ]
    },
    {
     "data": {
      "image/png": "[encoded data removed]",
      "text/plain": [
       "<Figure size 432x288 with 1 Axes>"
      ]
     },
     "metadata": {
      "needs_background": "light"
     },
     "output_type": "display_data"
    }
   ],
   "source": [
    "visualizeIterations()"
   ]
  },
  {
   "cell_type": "markdown",
   "metadata": {},
   "source": [
    "# Układ równań"
   ]
  },
  {
   "cell_type": "markdown",
   "metadata": {},
   "source": [
    "## Metoda Newtona"
   ]
  },
  {
   "cell_type": "code",
   "execution_count": 138,
   "metadata": {},
   "outputs": [],
   "source": [
    "def F(x):\n",
    "    return np.array(\n",
    "        [x[0]**2 + x[1]**2 + x[2] - 1,\n",
    "        2*x[0]**2 + x[1]**2 + x[2]**3 - 2,\n",
    "        3*x[0] - 2*x[1]**3 - 2*x[2]**2 - 3])\n",
    "\n",
    "def J(x):\n",
    "    return np.array([\n",
    "        [2*x[0], 2*x[1], 1],\n",
    "        [4*x[0], 2*x[1], 3*x[2]**2,],\n",
    "        [3     , -6*x[1]**2, -4*x[2]]\n",
    "    ])"
   ]
  },
  {
   "cell_type": "code",
   "execution_count": 139,
   "metadata": {},
   "outputs": [],
   "source": [
    "def Newton_system(x, eps):\n",
    "    x=np.array(x)\n",
    "    F_value = F(x)\n",
    "    F_norm = np.linalg.norm(F_value, ord=2)  # l2 norm of vector\n",
    "    iteration_counter = 0\n",
    "    while abs(F_norm) > eps and iteration_counter < 100:\n",
    "        delta = np.linalg.solve(J(x), -F_value)\n",
    "        x = x + delta\n",
    "        F_value = F(x)\n",
    "        F_norm = np.linalg.norm(F_value, ord=2)\n",
    "        iteration_counter += 1\n",
    "\n",
    "    if abs(F_norm) > eps:\n",
    "        iteration_counter = -1\n",
    "    return x.tolist(), iteration_counter"
   ]
  },
  {
   "cell_type": "code",
   "execution_count": 140,
   "metadata": {},
   "outputs": [
    {
     "name": "stdout",
     "output_type": "stream",
     "text": [
      "39 [0.9531554454013199, -0.42869035500377517, -0.09228052954085242]\n"
     ]
    }
   ],
   "source": [
    "x, n = Newton_system(x=np.array([5,5,5]), eps=0.0001)\n",
    "print (n, x)"
   ]
  },
  {
   "cell_type": "code",
   "execution_count": 141,
   "metadata": {},
   "outputs": [],
   "source": [
    "import itertools\n",
    "from random import uniform\n",
    "\n",
    "def seq(start, end, step):\n",
    "    assert (step != 0)\n",
    "    sample_count = int(abs(end - start) / step)\n",
    "    return itertools.islice(itertools.count(start, step), sample_count)\n",
    "\n",
    "def variables():\n",
    "    bond = 2\n",
    "    arr = []\n",
    "    for x in seq(-bond, bond, 0.5):\n",
    "        for y in seq(-bond, bond, 0.5):\n",
    "            for z in seq(-bond, 1, 0.5):\n",
    "                if (x,y,z) != (0,0,0): \n",
    "                    arr.append((x,y,z))\n",
    "    return arr\n",
    "\n",
    "def rand_variables(size = 3):\n",
    "    bond = 2\n",
    "    arr = []\n",
    "    for x in range(size):\n",
    "        for y in range(size):\n",
    "            for z in range(size):\n",
    "                    arr.append((uniform(-bond, bond),uniform(-bond, bond),uniform(-bond, bond)))\n",
    "    return arr"
   ]
  },
  {
   "cell_type": "code",
   "execution_count": 142,
   "metadata": {},
   "outputs": [
    {
     "data": {
      "text/plain": [
       "[(-1.8408526357464976, -0.9711398317384417, 1.5122044981342286),\n",
       " (-1.980900050502481, 0.6614504861176895, 0.6494954786855809),\n",
       " (1.7827190486033238, -0.5099297875318558, -0.08147809306313691),\n",
       " (1.9212590794708544, -0.4602732652181305, 0.1584266673311867),\n",
       " (0.8697121491257036, -1.731450120109455, 1.9176148119662608),\n",
       " (-1.5557800207730788, 1.9289392843050082, -1.1357631904173635),\n",
       " (-0.824203394442387, -1.2979999611606354, 1.0991757012673071),\n",
       " (1.093830244845842, -0.6636909018479447, 0.7280633034205355),\n",
       " (0.012970739878853887, -0.9713083534118176, -0.41225912867033765),\n",
       " (-0.5310568044317621, -1.5893235176326241, -1.5487741498369978),\n",
       " (-0.5774240954501804, 0.9133181073379739, 0.020532468598723153),\n",
       " (-1.4520379494223885, -0.0153588861686349, 0.535812432230224),\n",
       " (1.301732733167559, 1.5858204650974992, -0.7533547694862599),\n",
       " (-1.0858375141076508, -1.557610869642994, -1.920784171400069),\n",
       " (-1.5053758385217324, 0.5679064108157816, -0.9787653349324845),\n",
       " (-0.44925605259415713, -0.23565462366906154, -1.7080349693470245),\n",
       " (-0.012965134213334562, 0.009436599798487322, 0.9640245354614949),\n",
       " (-0.5962085668640542, 1.107403047320553, 0.9643508560636254),\n",
       " (0.7511881856693936, 0.743309638146803, -1.2574104142889926),\n",
       " (1.944688654774163, -1.2349420201441421, 1.3258558745206401),\n",
       " (1.3773344457030214, -0.7046958997038506, -1.1678664716842442),\n",
       " (-1.4421488052649258, -1.2991887005171638, 0.12103779910681656),\n",
       " (0.604123259350057, -0.6185908263773094, 1.0090182436174429),\n",
       " (-1.8648181306868112, 0.5464184780703563, -0.7942477319301631),\n",
       " (1.2130114570020192, 0.41074153538697855, -0.01899714262765384),\n",
       " (-0.6678947093225007, -1.6878283305949946, -1.3178342089561181),\n",
       " (0.6423335956534877, 0.5237762086974707, -1.8807109429109983)]"
      ]
     },
     "execution_count": 142,
     "metadata": {},
     "output_type": "execute_result"
    }
   ],
   "source": [
    "rand_variables()"
   ]
  },
  {
   "cell_type": "code",
   "execution_count": 146,
   "metadata": {},
   "outputs": [],
   "source": [
    "import math\n",
    "\n",
    "def mg(x):\n",
    "    return math.sqrt(x[0]**2 + x[1]**2 + x[2]**2)\n",
    "\n",
    "def in_solutions(x, xs):\n",
    "    x_magn = mg(x)\n",
    "    for sol in xs:\n",
    "        if abs(x_magn - mg(sol[0])) <= 0.1:\n",
    "            return True\n",
    "    return False\n",
    "    \n",
    "\n",
    "def newtonSystemExp(eps=0.0001):\n",
    "    xs = rand_variables()\n",
    "    solutions = []\n",
    "    for x in xs:\n",
    "        try:\n",
    "            sol, n = Newton_system(x, eps=eps)\n",
    "            if n == -1:\n",
    "                continue\n",
    "        except:\n",
    "            continue\n",
    "        #print([row[0] for row in solutions])\n",
    "        if not in_solutions(sol, solutions):\n",
    "            solutions.append((sol, n, x))\n",
    "    return sorted(solutions)"
   ]
  },
  {
   "cell_type": "code",
   "execution_count": 193,
   "metadata": {},
   "outputs": [
    {
     "name": "stdout",
     "output_type": "stream",
     "text": [
      "[1.0, 0.000775, -0.0] 12 (0.5957585600343878, 0.9935484173247335, -0.08104412756035195)\n",
      "[1.0, -1.0, -1.0] 70 (-0.5971080783775404, -0.0020358168827989687, 0.6912300370308015)\n"
     ]
    }
   ],
   "source": [
    "sols = newtonSystemExp(eps = 1.0e-6)\n",
    "for sol in sols:\n",
    "    print([round(xi,6) for xi in sol[0]], sol[1], sol[2])\n",
    "    #print(sol[1])\n",
    "    #print(sol[2])\n"
   ]
  }
 ],
 "metadata": {
  "kernelspec": {
   "display_name": "Python 3",
   "language": "python",
   "name": "python3"
  },
  "language_info": {
   "codemirror_mode": {
    "name": "ipython",
    "version": 3
   },
   "file_extension": ".py",
   "mimetype": "text/x-python",
   "name": "python",
   "nbconvert_exporter": "python",
   "pygments_lexer": "ipython3",
   "version": "3.8.5"
  }
 },
 "nbformat": 4,
 "nbformat_minor": 4
}
