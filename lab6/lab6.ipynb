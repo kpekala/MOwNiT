{
 "cells": [
  {
   "cell_type": "code",
   "execution_count": 2,
   "metadata": {},
   "outputs": [],
   "source": [
    "import numpy as np"
   ]
  },
  {
   "cell_type": "code",
   "execution_count": 3,
   "metadata": {},
   "outputs": [],
   "source": [
    "def gauss(A):\n",
    "    n = len(A)\n",
    "\n",
    "    for i in range(0, n):\n",
    "        maxEl = abs(A[i][i])\n",
    "        maxRow = i\n",
    "        for k in range(i + 1, n):\n",
    "            if abs(A[k][i]) > maxEl:\n",
    "                maxEl = abs(A[k][i])\n",
    "                maxRow = k\n",
    "\n",
    "        for k in range(i, n + 1):\n",
    "            tmp = A[maxRow][k]\n",
    "            A[maxRow][k] = A[i][k]\n",
    "            A[i][k] = tmp\n",
    "\n",
    "        for k in range(i + 1, n):\n",
    "            c = -A[k][i] / A[i][i]\n",
    "            for j in range(i, n + 1):\n",
    "                if i == j:\n",
    "                    A[k][j] = 0\n",
    "                else:\n",
    "                    A[k][j] += c * A[i][j]\n",
    "\n",
    "    x = [0 for i in range(n)]\n",
    "    for i in range(n - 1, -1, -1):\n",
    "        x[i] = A[i][n] / A[i][i]\n",
    "        for k in range(i - 1, -1, -1):\n",
    "            A[k][n] -= A[k][i] * x[i]\n",
    "    return x"
   ]
  },
  {
   "cell_type": "code",
   "execution_count": 4,
   "metadata": {},
   "outputs": [],
   "source": [
    "def pprint(A):\n",
    "    n = len(A)\n",
    "    for i in range(0, n):\n",
    "        line = \"\"\n",
    "        for j in range(0, n + 1):\n",
    "            line += str(A[i][j]) + \"\\t\"\n",
    "            if j == n - 1:\n",
    "                line += \"| \"\n",
    "        print(line)\n",
    "    print(\"\")"
   ]
  },
  {
   "cell_type": "code",
   "execution_count": 37,
   "metadata": {},
   "outputs": [],
   "source": [
    "def make_aug1_matrix(n, p = np.float32):\n",
    "    A = [[p(1) for _ in range(n+1)] for _ in range(n)]\n",
    "    for i in range(1,n):\n",
    "        for j in range(n):\n",
    "            A[i][j] = p(1)/p(i+j+1)\n",
    "    for i in range(0, n):\n",
    "        A[i][-1] = sum(A[i][:n])\n",
    "    \n",
    "    return A\n",
    "\n",
    "def make_aug2_matrix(n, p = np.float32):\n",
    "    A = [[p(1) for _ in range(n+1)] for _ in range(n)]\n",
    "    for i in range(0,n):\n",
    "        for j in range(n):\n",
    "            if i <= j:\n",
    "                A[i][j] = p(2*(i+1))/p(j+1)\n",
    "            else:\n",
    "                A[i][j] = A[j][i]\n",
    "    for i in range(0, n):\n",
    "        A[i][-1] = sum(A[i][:n])\n",
    "    \n",
    "    return A"
   ]
  },
  {
   "cell_type": "code",
   "execution_count": 60,
   "metadata": {},
   "outputs": [],
   "source": [
    "def make_aug3_matrix(n, p = np.float32):\n",
    "    k = 6\n",
    "    m = 4\n",
    "    A = [[p(0) for _ in range(n+1)] for _ in range(n)]\n",
    "    for i in range(0,n):\n",
    "        for j in range(n):\n",
    "            if i == j:\n",
    "                A[i][j] = p(k)\n",
    "            elif j == i+1:\n",
    "                A[i][j] = p(1) / p(i + m)\n",
    "            elif j == i-1:\n",
    "                A[i][j] = p(k)/p(m + i + 1)\n",
    "    for i in range(0, n):\n",
    "        A[i][-1] = sum(A[i][:n])\n",
    "    \n",
    "    return A"
   ]
  },
  {
   "cell_type": "code",
   "execution_count": 86,
   "metadata": {},
   "outputs": [],
   "source": [
    "def make_thomas_matrix(n, p = np.float32):\n",
    "    a=[]; b=[]; c=[]; d=[]\n",
    "    k = 6\n",
    "    m = 4\n",
    "    A = [[p(0) for _ in range(n+1)] for _ in range(n)]\n",
    "    for i in range(0,n):\n",
    "        for j in range(n):\n",
    "            if i == j:\n",
    "                b.append(p(k))\n",
    "                A[i][j] = p(k)\n",
    "            elif j == i+1:\n",
    "                c.append(p(1) / p(i + m))\n",
    "                A[i][j] = p(1) / p(i + m)\n",
    "            elif j == i-1:\n",
    "                a.append(p(k)/p(m + i + 1))\n",
    "                A[i][j] = p(k)/p(m + i + 1)\n",
    "    for i in range(0, n):\n",
    "        d.append(sum(A[i][:n]))\n",
    "    \n",
    "    return a,b,c,d"
   ]
  },
  {
   "cell_type": "code",
   "execution_count": 16,
   "metadata": {},
   "outputs": [
    {
     "name": "stdout",
     "output_type": "stream",
     "text": [
      "[1.0003436717443965, 0.9892340952424253, 1.1235753712604863, 0.34497075212083417, 2.6720195043019714, -0.6718573440378651, 0.05618959356504259, 4.705274136388346, -2.1052736801192076, 1.885523899533571]\n"
     ]
    }
   ],
   "source": [
    "A = make_aug1_matrix(10, np.float32)\n",
    "print(gauss(A))"
   ]
  },
  {
   "cell_type": "code",
   "execution_count": 14,
   "metadata": {},
   "outputs": [
    {
     "name": "stdout",
     "output_type": "stream",
     "text": [
      "[1.000000008817083, 0.9999996159222098, 1.0000054933208824, 0.9999623099499622, 1.0001446027762455, 0.9996671679300793, 1.0004700110429774, 0.9996011083128746, 1.0001867517579888, 0.9999629301696981]\n"
     ]
    }
   ],
   "source": [
    "A = make_aug1_matrix(10, np.float64)\n",
    "print(gauss(A))"
   ]
  },
  {
   "cell_type": "code",
   "execution_count": 8,
   "metadata": {},
   "outputs": [
    {
     "name": "stdout",
     "output_type": "stream",
     "text": [
      "[1.000000008817083, 0.9999996159222098, 1.0000054933208824, 0.9999623099499622, 1.0001446027762455, 0.9996671679300793, 1.0004700110429774, 0.9996011083128746, 1.0001867517579888, 0.9999629301696981]\n"
     ]
    }
   ],
   "source": [
    "A = make_aug1_matrix(10, np.double)\n",
    "print(gauss(A))"
   ]
  },
  {
   "cell_type": "code",
   "execution_count": 11,
   "metadata": {},
   "outputs": [
    {
     "name": "stdout",
     "output_type": "stream",
     "text": [
      "[1.000000008817083, 0.9999996159222098, 1.0000054933208824, 0.9999623099499622, 1.0001446027762455, 0.9996671679300793, 1.0004700110429774, 0.9996011083128746, 1.0001867517579888, 0.9999629301696981]\n"
     ]
    }
   ],
   "source": [
    "A = make_aug1_matrix(10, np.longdouble)\n",
    "print(gauss(A))"
   ]
  },
  {
   "cell_type": "code",
   "execution_count": 7,
   "metadata": {},
   "outputs": [
    {
     "name": "stdout",
     "output_type": "stream",
     "text": [
      "[0.9999999999999998, 0.9999999999999997, 0.9999999999999988, 1.000000000000005, 0.9999999999999952, 0.9999999999999982, 1.0000000000000062, 0.9999999999999969, 1.0000000000000002, 0.9999999999999997]\n"
     ]
    }
   ],
   "source": [
    "A = make_aug2_matrix(10)\n",
    "print(gauss(A))"
   ]
  },
  {
   "cell_type": "code",
   "execution_count": 31,
   "metadata": {},
   "outputs": [],
   "source": [
    "def experiment1(maxsize = 10, prec = np.float32):\n",
    "    for s in range(2, maxsize + 1):\n",
    "        A = make_aug1_matrix(s, prec)\n",
    "        res = gauss(A)\n",
    "        res = [i - 1 for i in res]\n",
    "        arr = np.array(res)\n",
    "        print(s)\n",
    "        #print(round(np.linalg.norm(arr),7))"
   ]
  },
  {
   "cell_type": "code",
   "execution_count": 29,
   "metadata": {},
   "outputs": [
    {
     "name": "stdout",
     "output_type": "stream",
     "text": [
      "0.0\n",
      "1.1e-06\n",
      "8.6e-06\n",
      "0.0003825\n",
      "0.021513\n",
      "0.762003\n",
      "2.2482439\n",
      "6.0443366\n",
      "5.575116\n"
     ]
    }
   ],
   "source": [
    "experiment1()"
   ]
  },
  {
   "cell_type": "code",
   "execution_count": 32,
   "metadata": {},
   "outputs": [
    {
     "name": "stdout",
     "output_type": "stream",
     "text": [
      "2\n",
      "3\n",
      "4\n",
      "5\n",
      "6\n",
      "7\n",
      "8\n",
      "9\n",
      "10\n"
     ]
    }
   ],
   "source": [
    "experiment1(prec = np.float64)"
   ]
  },
  {
   "cell_type": "code",
   "execution_count": 39,
   "metadata": {},
   "outputs": [],
   "source": [
    "def experiment2(maxsize = 10, prec = np.float32):\n",
    "    for s in range(2, maxsize + 1):\n",
    "        A = make_aug2_matrix(s, prec)\n",
    "        res = gauss(A)\n",
    "        res = [i - 1 for i in res]\n",
    "        arr = np.array(res)\n",
    "        #print(s)\n",
    "        print(round(np.linalg.norm(arr),7))"
   ]
  },
  {
   "cell_type": "code",
   "execution_count": 41,
   "metadata": {},
   "outputs": [
    {
     "name": "stdout",
     "output_type": "stream",
     "text": [
      "0.0\n",
      "0.0\n",
      "0.0\n",
      "0.0\n",
      "0.0\n",
      "0.0\n",
      "0.0\n",
      "0.0\n",
      "0.0\n"
     ]
    }
   ],
   "source": [
    "experiment2(prec = np.float64)"
   ]
  },
  {
   "cell_type": "markdown",
   "metadata": {},
   "source": [
    "## Zadanie 3"
   ]
  },
  {
   "cell_type": "code",
   "execution_count": 55,
   "metadata": {},
   "outputs": [],
   "source": [
    "def experiment3_1(maxsize = 10, prec = np.float32):\n",
    "    for s in range(2, maxsize + 1):\n",
    "        A = make_aug3_matrix(s, prec)\n",
    "        res = gauss(A)\n",
    "        res = [i - 1 for i in res]\n",
    "        arr = np.array(res)\n",
    "        #print(s)\n",
    "        print(round(np.linalg.norm(arr),10))"
   ]
  },
  {
   "cell_type": "code",
   "execution_count": 58,
   "metadata": {},
   "outputs": [
    {
     "name": "stdout",
     "output_type": "stream",
     "text": [
      "0.0\n",
      "0.0\n",
      "0.0\n",
      "0.0\n",
      "0.0\n",
      "0.0\n",
      "0.0\n",
      "0.0\n",
      "0.0\n"
     ]
    }
   ],
   "source": [
    "experiment3_1(prec = np.float64)"
   ]
  },
  {
   "cell_type": "code",
   "execution_count": 79,
   "metadata": {},
   "outputs": [],
   "source": [
    "def thomas(a, b, c, d):\n",
    "    nf = len(d) \n",
    "    ac, bc, cc, dc = list(map(np.array, (a, b, c, d)))\n",
    "    for it in range(1, nf):\n",
    "        mc = ac[it-1]/bc[it-1]\n",
    "        bc[it] = bc[it] - mc*cc[it-1] \n",
    "        dc[it] = dc[it] - mc*dc[it-1]   \n",
    "    xc = bc\n",
    "    xc[-1] = dc[-1]/bc[-1]\n",
    "\n",
    "    for il in range(nf-2, -1, -1):\n",
    "        xc[il] = (dc[il]-cc[il]*xc[il+1])/bc[il]\n",
    "\n",
    "    return xc"
   ]
  },
  {
   "cell_type": "code",
   "execution_count": 92,
   "metadata": {},
   "outputs": [],
   "source": [
    "def experiment3_2(maxsize = 10, prec = np.float32):\n",
    "    for s in range(2, maxsize + 1):\n",
    "        a,b,c,d = make_thomas_matrix(s, prec)\n",
    "        #print(\"got: \", a,b,c,d)\n",
    "        #print(\"expected: \")\n",
    "        #pprint(make_aug3_matrix(s))\n",
    "        res = thomas(a,b,c,d)\n",
    "        #print(res)\n",
    "        res = [i - 1 for i in res]\n",
    "        arr = np.array(res)\n",
    "        #print(s)\n",
    "        print(round(np.linalg.norm(arr),10))"
   ]
  },
  {
   "cell_type": "code",
   "execution_count": 94,
   "metadata": {},
   "outputs": [
    {
     "name": "stdout",
     "output_type": "stream",
     "text": [
      "0.0\n",
      "0.0\n",
      "0.0\n",
      "0.0\n",
      "0.0\n",
      "0.0\n",
      "0.0\n",
      "0.0\n",
      "0.0\n"
     ]
    }
   ],
   "source": [
    "experiment3_2(prec = np.float64)"
   ]
  },
  {
   "cell_type": "code",
   "execution_count": 121,
   "metadata": {},
   "outputs": [],
   "source": [
    "from time import time\n",
    "\n",
    "def time_test_thomas(maxsize = 110):\n",
    "    for s in range(maxsize - 10, maxsize + 1):\n",
    "        a,b,c,d = make_thomas_matrix(s)\n",
    "        start_t = time()\n",
    "        res = thomas(a,b,c,d)\n",
    "        print(round(time() - start_t,4))\n",
    "        res = [i - 1 for i in res]\n",
    "        arr = np.array(res)\n",
    "        #print(s)\n",
    "        #print(round(np.linalg.norm(arr),10)"
   ]
  },
  {
   "cell_type": "code",
   "execution_count": 124,
   "metadata": {},
   "outputs": [],
   "source": [
    "def time_test_gauss(maxsize = 110):\n",
    "    for s in range(maxsize - 10, maxsize + 1):\n",
    "        A = make_aug3_matrix(s)\n",
    "        start_t = time()\n",
    "        res = gauss(A)        \n",
    "        print(round(time() - start_t,6))\n",
    "        res = [i - 1 for i in res]\n",
    "        arr = np.array(res)\n",
    "        #print(s)\n",
    "        #print(round(np.linalg.norm(arr),10)"
   ]
  },
  {
   "cell_type": "code",
   "execution_count": 122,
   "metadata": {},
   "outputs": [],
   "source": [
    "def time_test(maxsize = 100):\n",
    "    print(\"Gauss\")\n",
    "    time_test_gauss(maxsize)\n",
    "    print(\"Thomas\")\n",
    "    time_test_thomas(maxsize)"
   ]
  },
  {
   "cell_type": "code",
   "execution_count": 119,
   "metadata": {},
   "outputs": [
    {
     "name": "stdout",
     "output_type": "stream",
     "text": [
      "0.145\n",
      "0.146\n",
      "0.149\n",
      "0.155\n",
      "0.1574\n",
      "0.165\n",
      "0.166\n",
      "0.172\n",
      "0.174\n",
      "0.182\n",
      "0.184\n"
     ]
    }
   ],
   "source": [
    "time_test_gauss()"
   ]
  },
  {
   "cell_type": "code",
   "execution_count": 114,
   "metadata": {},
   "outputs": [
    {
     "name": "stdout",
     "output_type": "stream",
     "text": [
      "0.005\n",
      "0.005\n",
      "0.005\n",
      "0.005\n",
      "0.005\n",
      "0.005\n",
      "0.005\n",
      "0.006\n",
      "0.005\n",
      "0.005\n",
      "0.005\n"
     ]
    }
   ],
   "source": [
    "time_test_thomas()"
   ]
  },
  {
   "cell_type": "code",
   "execution_count": 125,
   "metadata": {},
   "outputs": [
    {
     "name": "stdout",
     "output_type": "stream",
     "text": [
      "Gauss\n",
      "0.109024\n",
      "0.110025\n",
      "0.113025\n",
      "0.117027\n",
      "0.120027\n",
      "0.123029\n",
      "0.128528\n",
      "0.132031\n",
      "0.132497\n",
      "0.139009\n",
      "0.142011\n",
      "Thomas\n",
      "0.001\n",
      "0.0\n",
      "0.001\n",
      "0.001\n",
      "0.001\n",
      "0.001\n",
      "0.0\n",
      "0.0\n",
      "0.001\n",
      "0.001\n",
      "0.0\n"
     ]
    }
   ],
   "source": [
    "time_test()"
   ]
  }
 ],
 "metadata": {
  "kernelspec": {
   "display_name": "Python 3",
   "language": "python",
   "name": "python3"
  },
  "language_info": {
   "codemirror_mode": {
    "name": "ipython",
    "version": 3
   },
   "file_extension": ".py",
   "mimetype": "text/x-python",
   "name": "python",
   "nbconvert_exporter": "python",
   "pygments_lexer": "ipython3",
   "version": "3.8.5"
  }
 },
 "nbformat": 4,
 "nbformat_minor": 4
}
