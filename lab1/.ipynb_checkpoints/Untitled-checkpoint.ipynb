{
 "cells": [
  {
   "cell_type": "markdown",
   "metadata": {},
   "source": [
    "# Zadanie 4 z MOwNiT lab 1."
   ]
  },
  {
   "cell_type": "markdown",
   "metadata": {},
   "source": [
    "### Naszym celem jest sprawdzenie dokładności przy obliczaniu modułu z liczby zespolonej robiąc to na 3 sposoby."
   ]
  },
  {
   "cell_type": "markdown",
   "metadata": {},
   "source": [
    "### Import bibliotek"
   ]
  },
  {
   "cell_type": "code",
   "execution_count": 3,
   "metadata": {},
   "outputs": [],
   "source": [
    "from math import sqrt\n",
    "import numpy as np"
   ]
  },
  {
   "cell_type": "markdown",
   "metadata": {},
   "source": [
    "### Metody na obliczenie modułu"
   ]
  },
  {
   "cell_type": "code",
   "execution_count": 4,
   "metadata": {},
   "outputs": [],
   "source": [
    "def method1(x, y):\n",
    "    return sqrt(x**2 + y**2)\n",
    "\n",
    "def method2(x, y):\n",
    "    v = max(abs(x), abs(y))\n",
    "    w = min(abs(x), abs(y))\n",
    "    return v * sqrt(1 + (w/v)**2)\n",
    "\n",
    "def method3(x, y):\n",
    "    v = max(abs(x), abs(y))\n",
    "    w = min(abs(x), abs(y))\n",
    "    return 2 * v * sqrt(1/4 + (w/(2*v))**2)"
   ]
  },
  {
   "cell_type": "markdown",
   "metadata": {},
   "source": [
    "### Funkcje testujące:"
   ]
  },
  {
   "cell_type": "code",
   "execution_count": 5,
   "metadata": {},
   "outputs": [],
   "source": [
    "def full_test(x, y):\n",
    "    print(\"Testing {x} + {y}i\".format(x = x, y = y))\n",
    "    methods = [method1, method2, method3]\n",
    "    for method in methods:\n",
    "        result = method(x, y)\n",
    "        print('{name} returns {result}'.format(name = method.__name__, result = result))"
   ]
  },
  {
   "cell_type": "code",
   "execution_count": 41,
   "metadata": {},
   "outputs": [],
   "source": [
    "def second_test(n):\n",
    "    methods = [method1, method2, method3]\n",
    "    max_delta = ( 0, \"\")\n",
    "    p = (0,0)\n",
    "    max_methods = []\n",
    "    for _ in range(n):\n",
    "        xi = np.random.uniform(0,1)\n",
    "        yi = np.random.uniform(0,1)\n",
    "        w = [methods[i](xi,yi) for i in range(3)]\n",
    "        tmp = max_delta\n",
    "        max_delta = max(max_delta,(abs(w[0]-w[1]),\"01\"),(abs(w[1]-w[2]),\"12\"),(abs(w[0]-w[2]),\"02\"))\n",
    "        if max_delta != tmp:\n",
    "            p = (xi,yi)\n",
    "            \n",
    "    print(\"Max difference for:\",max_delta, p)"
   ]
  },
  {
   "cell_type": "markdown",
   "metadata": {},
   "source": [
    "### Proste testy"
   ]
  },
  {
   "cell_type": "code",
   "execution_count": 7,
   "metadata": {},
   "outputs": [
    {
     "name": "stdout",
     "output_type": "stream",
     "text": [
      "Testing 3 + 4i\n",
      "method1 returns 5.0\n",
      "method2 returns 5.0\n",
      "method3 returns 5.0\n"
     ]
    }
   ],
   "source": [
    "full_test(3,4)"
   ]
  },
  {
   "cell_type": "code",
   "execution_count": 8,
   "metadata": {},
   "outputs": [
    {
     "name": "stdout",
     "output_type": "stream",
     "text": [
      "Testing 1.8000000700569598e-15 + 1.6999999955788275e-15i\n",
      "method1 returns 2.47588372852464e-15\n",
      "method2 returns 2.47588374424994e-15\n",
      "method3 returns 2.47588372852464e-15\n"
     ]
    }
   ],
   "source": [
    "full_test(np.float32(1.8e-15),np.float32(1.7e-15))"
   ]
  },
  {
   "cell_type": "code",
   "execution_count": 66,
   "metadata": {},
   "outputs": [
    {
     "name": "stdout",
     "output_type": "stream",
     "text": [
      "Max difference for: (2.220446049250313e-16, '02') (0.7949120326320047, 0.03230397469657631)\n"
     ]
    }
   ],
   "source": [
    "second_test(100)"
   ]
  }
 ],
 "metadata": {
  "kernelspec": {
   "display_name": "Python 3",
   "language": "python",
   "name": "python3"
  },
  "language_info": {
   "codemirror_mode": {
    "name": "ipython",
    "version": 3
   },
   "file_extension": ".py",
   "mimetype": "text/x-python",
   "name": "python",
   "nbconvert_exporter": "python",
   "pygments_lexer": "ipython3",
   "version": "3.8.5"
  }
 },
 "nbformat": 4,
 "nbformat_minor": 4
}
