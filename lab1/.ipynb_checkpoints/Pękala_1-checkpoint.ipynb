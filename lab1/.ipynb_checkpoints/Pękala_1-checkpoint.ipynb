{
 "cells": [
  {
   "cell_type": "markdown",
   "metadata": {},
   "source": [
    "# Zadanie 4 z MOwNiT lab 1."
   ]
  },
  {
   "cell_type": "markdown",
   "metadata": {},
   "source": [
    "### Celem zadania jest sprawdzenie dokładności przy obliczaniu modułu z liczby zespolonej robiąc to na 3 sposoby."
   ]
  },
  {
   "cell_type": "markdown",
   "metadata": {},
   "source": [
    "### Import bibliotek"
   ]
  },
  {
   "cell_type": "code",
   "execution_count": 25,
   "metadata": {},
   "outputs": [],
   "source": [
    "from math import sqrt\n",
    "import numpy as np\n",
    "import pandas as pd"
   ]
  },
  {
   "cell_type": "markdown",
   "metadata": {},
   "source": [
    "### Metody na obliczenie modułu"
   ]
  },
  {
   "cell_type": "code",
   "execution_count": 7,
   "metadata": {},
   "outputs": [],
   "source": [
    "def method1(x, y):\n",
    "    return sqrt(x**2 + y**2)\n",
    "\n",
    "def method2(x, y):\n",
    "    v = max(abs(x), abs(y))\n",
    "    w = min(abs(x), abs(y))\n",
    "    return v * sqrt(1 + (w/v)**2)\n",
    "\n",
    "def method3(x, y):\n",
    "    v = max(abs(x), abs(y))\n",
    "    w = min(abs(x), abs(y))\n",
    "    return 2 * v * sqrt(1/4 + (w/(2*v))**2)"
   ]
  },
  {
   "cell_type": "markdown",
   "metadata": {},
   "source": [
    "### Funkcje testujące:"
   ]
  },
  {
   "cell_type": "code",
   "execution_count": 8,
   "metadata": {},
   "outputs": [],
   "source": [
    "def full_test(x, y):\n",
    "    print(\"Testing {x} + {y}i\".format(x = x, y = y))\n",
    "    methods = [method1, method2, method3]\n",
    "    for method in methods:\n",
    "        result = method(x, y)\n",
    "        print('{name} returns {result}'.format(name = method.__name__, result = result))"
   ]
  },
  {
   "cell_type": "code",
   "execution_count": 9,
   "metadata": {},
   "outputs": [],
   "source": [
    "def second_test(n, low, high):\n",
    "    methods = [method1, method2, method3]\n",
    "    max_delta = ( 0, \"\")\n",
    "    p = (0,0)\n",
    "    max_methods = []\n",
    "    for _ in range(n):\n",
    "        xi = np.random.uniform(low,high)\n",
    "        yi = np.random.uniform(low,high)\n",
    "        w = [methods[i](xi,yi) for i in range(3)]\n",
    "        tmp = max_delta\n",
    "        max_delta = max(max_delta,(abs(w[0]-w[1]),\"01\"),(abs(w[1]-w[2]),\"12\"),(abs(w[0]-w[2]),\"02\"))\n",
    "        if max_delta != tmp:\n",
    "            p = (xi,yi)\n",
    "            \n",
    "    print(\"Max difference for:\",max_delta, p)"
   ]
  },
  {
   "cell_type": "code",
   "execution_count": 40,
   "metadata": {},
   "outputs": [],
   "source": [
    "def third_test(n, low, high):\n",
    "    methods = [method1, method2, method3]\n",
    "    max_delta = ( 0, \"\")\n",
    "    p = (0,0)\n",
    "    t = []\n",
    "    max_methods = []\n",
    "    for _ in range(n):\n",
    "        xi = np.random.uniform(low,high)\n",
    "        yi = np.random.uniform(low,high)\n",
    "        w = [methods[i](xi,yi) for i in range(3)]\n",
    "        tmp = max_delta\n",
    "        max_delta = max((abs(w[0]-w[1]),\"01\"),(abs(w[1]-w[2]),\"12\"),(abs(w[0]-w[2]),\"02\"))\n",
    "        p = (xi,yi)\n",
    "        t.append((max_delta[0],max_delta[1],p,w[0]))\n",
    "          \n",
    "    t = sorted(t,reverse = True)\n",
    "    print(pd.DataFrame(t, columns=[\"1\", \"2\",\"3\",\"4\"]))"
   ]
  },
  {
   "cell_type": "markdown",
   "metadata": {},
   "source": [
    "### Proste testy"
   ]
  },
  {
   "cell_type": "code",
   "execution_count": 11,
   "metadata": {},
   "outputs": [
    {
     "name": "stdout",
     "output_type": "stream",
     "text": [
      "Testing 3 + 4i\n",
      "method1 returns 5.0\n",
      "method2 returns 5.0\n",
      "method3 returns 5.0\n"
     ]
    }
   ],
   "source": [
    "full_test(3,4)"
   ]
  },
  {
   "cell_type": "code",
   "execution_count": 12,
   "metadata": {},
   "outputs": [
    {
     "name": "stdout",
     "output_type": "stream",
     "text": [
      "Testing 1.8000000700569598e-15 + 1.6999999955788275e-15i\n",
      "method1 returns 2.47588372852464e-15\n",
      "method2 returns 2.47588374424994e-15\n",
      "method3 returns 2.47588372852464e-15\n"
     ]
    }
   ],
   "source": [
    "full_test(np.float32(1.8e-15),np.float32(1.7e-15))"
   ]
  },
  {
   "cell_type": "code",
   "execution_count": 13,
   "metadata": {},
   "outputs": [
    {
     "name": "stdout",
     "output_type": "stream",
     "text": [
      "Max difference for: (4.440892098500626e-16, '02') (0.7790647476731763, 0.9080639803433092)\n"
     ]
    }
   ],
   "source": [
    "second_test(1000000,0,1)"
   ]
  },
  {
   "cell_type": "code",
   "execution_count": 14,
   "metadata": {},
   "outputs": [
    {
     "name": "stdout",
     "output_type": "stream",
     "text": [
      "Max difference for: (0.0, '12') (5.698732608262455, 5.84085302362965)\n"
     ]
    }
   ],
   "source": [
    "second_test(1,5,6)"
   ]
  },
  {
   "cell_type": "code",
   "execution_count": 105,
   "metadata": {},
   "outputs": [
    {
     "name": "stdout",
     "output_type": "stream",
     "text": [
      "                1   2                                               3  \\\n",
      "0    2.220446e-16  12       (0.7297594355059968, 0.40569715196717904)   \n",
      "1    2.220446e-16  02         (0.9978590334953147, 0.785343700129621)   \n",
      "2    2.220446e-16  02        (0.9962702033624498, 0.5166275827487327)   \n",
      "3    2.220446e-16  02        (0.9955454288371408, 0.5007870129916835)   \n",
      "4    2.220446e-16  02       (0.9917055506086832, 0.39159648439930117)   \n",
      "..            ...  ..                                             ...   \n",
      "995  0.000000e+00  12     (0.0030832230377981773, 0.5939589866458287)   \n",
      "996  0.000000e+00  12    (0.0024771481320170485, 0.06922952504131752)   \n",
      "997  0.000000e+00  12     (0.0018432529429789346, 0.1648012325370286)   \n",
      "998  0.000000e+00  12    (0.0003968546307281384, 0.49469742758724033)   \n",
      "999  0.000000e+00  12  (0.00022813364335849684, 0.039604652044874844)   \n",
      "\n",
      "            4  \n",
      "0    0.834949  \n",
      "1    1.269838  \n",
      "2    1.122256  \n",
      "3    1.114405  \n",
      "4    1.066221  \n",
      "..        ...  \n",
      "995  0.593967  \n",
      "996  0.069274  \n",
      "997  0.164812  \n",
      "998  0.494698  \n",
      "999  0.039605  \n",
      "\n",
      "[1000 rows x 4 columns]\n"
     ]
    }
   ],
   "source": [
    "third_test(1000,0,1)"
   ]
  },
  {
   "cell_type": "code",
   "execution_count": 106,
   "metadata": {},
   "outputs": [
    {
     "name": "stdout",
     "output_type": "stream",
     "text": [
      "        1   2                                        3             4\n",
      "0   0.250  02   (977220002202992.2, 826365509558588.9)  1.279781e+15\n",
      "1   0.250  02   (941850624493660.0, 907775837083570.5)  1.308105e+15\n",
      "2   0.250  02   (766803938245342.2, 914637164454026.4)  1.193545e+15\n",
      "3   0.125  02    (870945342028733.5, 59124765690482.9)  8.729499e+14\n",
      "4   0.125  02  (845087886005843.0, 230042058129569.06)  8.758384e+14\n",
      "..    ...  ..                                      ...           ...\n",
      "95  0.000  12  (107560643332214.02, 335135257109610.6)  3.519729e+14\n",
      "96  0.000  12  (102602759982097.19, 378718838643356.5)  3.923714e+14\n",
      "97  0.000  12   (56741912208567.58, 778836651543579.9)  7.809009e+14\n",
      "98  0.000  12   (53267128148509.48, 997638688180970.8)  9.990597e+14\n",
      "99  0.000  12  (37056042587587.445, 844818549305813.0)  8.456308e+14\n",
      "\n",
      "[100 rows x 4 columns]\n"
     ]
    }
   ],
   "source": [
    "third_test(100,1e+10,1e+15)"
   ]
  },
  {
   "cell_type": "markdown",
   "metadata": {},
   "source": [
    "## Wnioski"
   ]
  },
  {
   "cell_type": "markdown",
   "metadata": {},
   "source": [
    "1. Największe różnice występują przy metodach 0 i 2\n",
    "2. Metody 1 i 2 zwracają wyniki o najmniejszej różnicy\n",
    "3. Gdy losujemy x i y z przedziału(0,1), można zauważyć, że im większe liczby tym większa niedokładność"
   ]
  }
 ],
 "metadata": {
  "kernelspec": {
   "display_name": "Python 3",
   "language": "python",
   "name": "python3"
  },
  "language_info": {
   "codemirror_mode": {
    "name": "ipython",
    "version": 3
   },
   "file_extension": ".py",
   "mimetype": "text/x-python",
   "name": "python",
   "nbconvert_exporter": "python",
   "pygments_lexer": "ipython3",
   "version": "3.8.5"
  }
 },
 "nbformat": 4,
 "nbformat_minor": 4
}
